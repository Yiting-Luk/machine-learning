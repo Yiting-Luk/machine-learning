{
 "cells": [
  {
   "cell_type": "markdown",
   "metadata": {
    "id": "lrM7hoyb7HAU"
   },
   "source": [
    "# CodeLab 3: Classifacton of WLANs power saving"
   ]
  },
  {
   "cell_type": "markdown",
   "metadata": {
    "id": "7JeLzG4P7Gtj"
   },
   "source": [
    "Energy management is important for electronic devices, and doubly so for portable systems that run on battery power. For this Code Lab, we consider the problem of controlling the power state of the wireless network interface controller. For optimal performance, this power state should adapt to the network usage. We will use a dataset published alongside a paper by Saeed and Kolberg, 2018. The researchers measured the traffic signatures associated with a number of applications, on a mobile phone and labelled each according to the WLAN usage pattern. The dataset comprises 1350 samples with 6 features and a single classification label. The label (the type of usage) was assigned one of four categories: high, varied, buffer, or low. \n",
    "\n",
    "<br> In this Codelab we will start with binary classification, in which we will see the difference between weighted and non-weighted binary classification. Secondly, we will develop some multiclass models. There we will see the difference between one-versus-all  and multinomial classification. Various classification metrics will be used to assess the models’ prediction capabilities. \n",
    "\n"
   ]
  },
  {
   "cell_type": "code",
   "execution_count": 1,
   "metadata": {
    "id": "B9nSHfKDugeb"
   },
   "outputs": [],
   "source": [
    "# Import packages needed for the lab\n",
    "import numpy as np\n",
    "import pandas as pd\n",
    "import matplotlib.pyplot as plt\n",
    "import seaborn as sn\n",
    "from sklearn import svm\n",
    "from sklearn.preprocessing import StandardScaler\n",
    "from sklearn.linear_model import LogisticRegression\n",
    "from sklearn.metrics import f1_score, accuracy_score, roc_curve, precision_recall_curve, PrecisionRecallDisplay, roc_auc_score, RocCurveDisplay, confusion_matrix, precision_score, recall_score, ConfusionMatrixDisplay\n",
    "from sklearn.model_selection import train_test_split"
   ]
  },
  {
   "cell_type": "markdown",
   "metadata": {},
   "source": [
    "<br> In this lab, we will work on different classifiers for different classification models. Even though the data is already prepared, it is important to get familiar with the data you will work with. \n",
    "<br> −Load “Network_Traffic.csv” into Pandas data frame. "
   ]
  },
  {
   "cell_type": "code",
   "execution_count": 2,
   "metadata": {
    "colab": {
     "base_uri": "https://localhost:8080/",
     "height": 485
    },
    "id": "hg_lzqN0u1qd",
    "outputId": "95f55b81-3fd3-462d-aa40-65ace6cbea83"
   },
   "outputs": [
    {
     "data": {
      "text/html": [
       "<div>\n",
       "<style scoped>\n",
       "    .dataframe tbody tr th:only-of-type {\n",
       "        vertical-align: middle;\n",
       "    }\n",
       "\n",
       "    .dataframe tbody tr th {\n",
       "        vertical-align: top;\n",
       "    }\n",
       "\n",
       "    .dataframe thead th {\n",
       "        text-align: right;\n",
       "    }\n",
       "</style>\n",
       "<table border=\"1\" class=\"dataframe\">\n",
       "  <thead>\n",
       "    <tr style=\"text-align: right;\">\n",
       "      <th></th>\n",
       "      <th>Receiving-data-rate-in-Kbytes-per-seconds</th>\n",
       "      <th>Transmitting-data-rate-in-Kbytes-per-seconds</th>\n",
       "      <th>Total-received-Kbytes</th>\n",
       "      <th>Total-Transmitted-Kbytes</th>\n",
       "      <th>Total-received-packets</th>\n",
       "      <th>Total-Transmitted-packets</th>\n",
       "      <th>Class</th>\n",
       "    </tr>\n",
       "  </thead>\n",
       "  <tbody>\n",
       "    <tr>\n",
       "      <th>0</th>\n",
       "      <td>78.66</td>\n",
       "      <td>87.02</td>\n",
       "      <td>974.37</td>\n",
       "      <td>1000.00</td>\n",
       "      <td>1640</td>\n",
       "      <td>1540</td>\n",
       "      <td>High</td>\n",
       "    </tr>\n",
       "    <tr>\n",
       "      <th>1</th>\n",
       "      <td>94.52</td>\n",
       "      <td>91.51</td>\n",
       "      <td>1800.00</td>\n",
       "      <td>1870.00</td>\n",
       "      <td>3240</td>\n",
       "      <td>3040</td>\n",
       "      <td>High</td>\n",
       "    </tr>\n",
       "    <tr>\n",
       "      <th>2</th>\n",
       "      <td>69.89</td>\n",
       "      <td>76.95</td>\n",
       "      <td>2800.00</td>\n",
       "      <td>2900.00</td>\n",
       "      <td>5080</td>\n",
       "      <td>4700</td>\n",
       "      <td>High</td>\n",
       "    </tr>\n",
       "    <tr>\n",
       "      <th>3</th>\n",
       "      <td>131.25</td>\n",
       "      <td>156.25</td>\n",
       "      <td>3970.00</td>\n",
       "      <td>4140.00</td>\n",
       "      <td>7690</td>\n",
       "      <td>6760</td>\n",
       "      <td>High</td>\n",
       "    </tr>\n",
       "    <tr>\n",
       "      <th>4</th>\n",
       "      <td>106.64</td>\n",
       "      <td>115.82</td>\n",
       "      <td>4840.00</td>\n",
       "      <td>5070.00</td>\n",
       "      <td>9810</td>\n",
       "      <td>8400</td>\n",
       "      <td>High</td>\n",
       "    </tr>\n",
       "    <tr>\n",
       "      <th>...</th>\n",
       "      <td>...</td>\n",
       "      <td>...</td>\n",
       "      <td>...</td>\n",
       "      <td>...</td>\n",
       "      <td>...</td>\n",
       "      <td>...</td>\n",
       "      <td>...</td>\n",
       "    </tr>\n",
       "    <tr>\n",
       "      <th>1345</th>\n",
       "      <td>21.19</td>\n",
       "      <td>0.55</td>\n",
       "      <td>25000.00</td>\n",
       "      <td>439.16</td>\n",
       "      <td>19460</td>\n",
       "      <td>8410</td>\n",
       "      <td>Buffer</td>\n",
       "    </tr>\n",
       "    <tr>\n",
       "      <th>1346</th>\n",
       "      <td>11.28</td>\n",
       "      <td>0.10</td>\n",
       "      <td>25150.00</td>\n",
       "      <td>441.95</td>\n",
       "      <td>19580</td>\n",
       "      <td>8460</td>\n",
       "      <td>Buffer</td>\n",
       "    </tr>\n",
       "    <tr>\n",
       "      <th>1347</th>\n",
       "      <td>22.98</td>\n",
       "      <td>0.30</td>\n",
       "      <td>25310.00</td>\n",
       "      <td>444.59</td>\n",
       "      <td>19710</td>\n",
       "      <td>8520</td>\n",
       "      <td>Buffer</td>\n",
       "    </tr>\n",
       "    <tr>\n",
       "      <th>1348</th>\n",
       "      <td>25.00</td>\n",
       "      <td>0.10</td>\n",
       "      <td>25400.00</td>\n",
       "      <td>445.98</td>\n",
       "      <td>19770</td>\n",
       "      <td>8540</td>\n",
       "      <td>Buffer</td>\n",
       "    </tr>\n",
       "    <tr>\n",
       "      <th>1349</th>\n",
       "      <td>17.55</td>\n",
       "      <td>0.61</td>\n",
       "      <td>25640.00</td>\n",
       "      <td>448.60</td>\n",
       "      <td>19940</td>\n",
       "      <td>8590</td>\n",
       "      <td>Buffer</td>\n",
       "    </tr>\n",
       "  </tbody>\n",
       "</table>\n",
       "<p>1350 rows × 7 columns</p>\n",
       "</div>"
      ],
      "text/plain": [
       "      Receiving-data-rate-in-Kbytes-per-seconds  \\\n",
       "0                                         78.66   \n",
       "1                                         94.52   \n",
       "2                                         69.89   \n",
       "3                                        131.25   \n",
       "4                                        106.64   \n",
       "...                                         ...   \n",
       "1345                                      21.19   \n",
       "1346                                      11.28   \n",
       "1347                                      22.98   \n",
       "1348                                      25.00   \n",
       "1349                                      17.55   \n",
       "\n",
       "       Transmitting-data-rate-in-Kbytes-per-seconds   Total-received-Kbytes  \\\n",
       "0                                             87.02                  974.37   \n",
       "1                                             91.51                 1800.00   \n",
       "2                                             76.95                 2800.00   \n",
       "3                                            156.25                 3970.00   \n",
       "4                                            115.82                 4840.00   \n",
       "...                                             ...                     ...   \n",
       "1345                                           0.55                25000.00   \n",
       "1346                                           0.10                25150.00   \n",
       "1347                                           0.30                25310.00   \n",
       "1348                                           0.10                25400.00   \n",
       "1349                                           0.61                25640.00   \n",
       "\n",
       "       Total-Transmitted-Kbytes   Total-received-packets  \\\n",
       "0                       1000.00                     1640   \n",
       "1                       1870.00                     3240   \n",
       "2                       2900.00                     5080   \n",
       "3                       4140.00                     7690   \n",
       "4                       5070.00                     9810   \n",
       "...                         ...                      ...   \n",
       "1345                     439.16                    19460   \n",
       "1346                     441.95                    19580   \n",
       "1347                     444.59                    19710   \n",
       "1348                     445.98                    19770   \n",
       "1349                     448.60                    19940   \n",
       "\n",
       "       Total-Transmitted-packets   Class  \n",
       "0                           1540    High  \n",
       "1                           3040    High  \n",
       "2                           4700    High  \n",
       "3                           6760    High  \n",
       "4                           8400    High  \n",
       "...                          ...     ...  \n",
       "1345                        8410  Buffer  \n",
       "1346                        8460  Buffer  \n",
       "1347                        8520  Buffer  \n",
       "1348                        8540  Buffer  \n",
       "1349                        8590  Buffer  \n",
       "\n",
       "[1350 rows x 7 columns]"
      ]
     },
     "execution_count": 2,
     "metadata": {},
     "output_type": "execute_result"
    }
   ],
   "source": [
    "# Import the data and visualize it\n",
    "data = pd.read_csv('Network_Traffic.csv')\n",
    "data"
   ]
  },
  {
   "cell_type": "markdown",
   "metadata": {
    "id": "ObhIuLajW83f"
   },
   "source": [
    "## Task 1 - Data Preparation"
   ]
  },
  {
   "cell_type": "markdown",
   "metadata": {
    "id": "0OgmdatjzuMR"
   },
   "source": [
    "<br> - \tSplit the data frame into features data frame X and label data frame y."
   ]
  },
  {
   "cell_type": "code",
   "execution_count": 23,
   "metadata": {},
   "outputs": [
    {
     "data": {
      "text/html": [
       "<div>\n",
       "<style scoped>\n",
       "    .dataframe tbody tr th:only-of-type {\n",
       "        vertical-align: middle;\n",
       "    }\n",
       "\n",
       "    .dataframe tbody tr th {\n",
       "        vertical-align: top;\n",
       "    }\n",
       "\n",
       "    .dataframe thead th {\n",
       "        text-align: right;\n",
       "    }\n",
       "</style>\n",
       "<table border=\"1\" class=\"dataframe\">\n",
       "  <thead>\n",
       "    <tr style=\"text-align: right;\">\n",
       "      <th></th>\n",
       "      <th>Receiving-data-rate-in-Kbytes-per-seconds</th>\n",
       "      <th>Transmitting-data-rate-in-Kbytes-per-seconds</th>\n",
       "      <th>Total-received-Kbytes</th>\n",
       "      <th>Total-Transmitted-Kbytes</th>\n",
       "      <th>Total-received-packets</th>\n",
       "      <th>Total-Transmitted-packets</th>\n",
       "    </tr>\n",
       "  </thead>\n",
       "  <tbody>\n",
       "    <tr>\n",
       "      <th>0</th>\n",
       "      <td>78.66</td>\n",
       "      <td>87.02</td>\n",
       "      <td>974.37</td>\n",
       "      <td>1000.00</td>\n",
       "      <td>1640</td>\n",
       "      <td>1540</td>\n",
       "    </tr>\n",
       "    <tr>\n",
       "      <th>1</th>\n",
       "      <td>94.52</td>\n",
       "      <td>91.51</td>\n",
       "      <td>1800.00</td>\n",
       "      <td>1870.00</td>\n",
       "      <td>3240</td>\n",
       "      <td>3040</td>\n",
       "    </tr>\n",
       "    <tr>\n",
       "      <th>2</th>\n",
       "      <td>69.89</td>\n",
       "      <td>76.95</td>\n",
       "      <td>2800.00</td>\n",
       "      <td>2900.00</td>\n",
       "      <td>5080</td>\n",
       "      <td>4700</td>\n",
       "    </tr>\n",
       "    <tr>\n",
       "      <th>3</th>\n",
       "      <td>131.25</td>\n",
       "      <td>156.25</td>\n",
       "      <td>3970.00</td>\n",
       "      <td>4140.00</td>\n",
       "      <td>7690</td>\n",
       "      <td>6760</td>\n",
       "    </tr>\n",
       "    <tr>\n",
       "      <th>4</th>\n",
       "      <td>106.64</td>\n",
       "      <td>115.82</td>\n",
       "      <td>4840.00</td>\n",
       "      <td>5070.00</td>\n",
       "      <td>9810</td>\n",
       "      <td>8400</td>\n",
       "    </tr>\n",
       "    <tr>\n",
       "      <th>...</th>\n",
       "      <td>...</td>\n",
       "      <td>...</td>\n",
       "      <td>...</td>\n",
       "      <td>...</td>\n",
       "      <td>...</td>\n",
       "      <td>...</td>\n",
       "    </tr>\n",
       "    <tr>\n",
       "      <th>1345</th>\n",
       "      <td>21.19</td>\n",
       "      <td>0.55</td>\n",
       "      <td>25000.00</td>\n",
       "      <td>439.16</td>\n",
       "      <td>19460</td>\n",
       "      <td>8410</td>\n",
       "    </tr>\n",
       "    <tr>\n",
       "      <th>1346</th>\n",
       "      <td>11.28</td>\n",
       "      <td>0.10</td>\n",
       "      <td>25150.00</td>\n",
       "      <td>441.95</td>\n",
       "      <td>19580</td>\n",
       "      <td>8460</td>\n",
       "    </tr>\n",
       "    <tr>\n",
       "      <th>1347</th>\n",
       "      <td>22.98</td>\n",
       "      <td>0.30</td>\n",
       "      <td>25310.00</td>\n",
       "      <td>444.59</td>\n",
       "      <td>19710</td>\n",
       "      <td>8520</td>\n",
       "    </tr>\n",
       "    <tr>\n",
       "      <th>1348</th>\n",
       "      <td>25.00</td>\n",
       "      <td>0.10</td>\n",
       "      <td>25400.00</td>\n",
       "      <td>445.98</td>\n",
       "      <td>19770</td>\n",
       "      <td>8540</td>\n",
       "    </tr>\n",
       "    <tr>\n",
       "      <th>1349</th>\n",
       "      <td>17.55</td>\n",
       "      <td>0.61</td>\n",
       "      <td>25640.00</td>\n",
       "      <td>448.60</td>\n",
       "      <td>19940</td>\n",
       "      <td>8590</td>\n",
       "    </tr>\n",
       "  </tbody>\n",
       "</table>\n",
       "<p>1350 rows × 6 columns</p>\n",
       "</div>"
      ],
      "text/plain": [
       "      Receiving-data-rate-in-Kbytes-per-seconds  \\\n",
       "0                                         78.66   \n",
       "1                                         94.52   \n",
       "2                                         69.89   \n",
       "3                                        131.25   \n",
       "4                                        106.64   \n",
       "...                                         ...   \n",
       "1345                                      21.19   \n",
       "1346                                      11.28   \n",
       "1347                                      22.98   \n",
       "1348                                      25.00   \n",
       "1349                                      17.55   \n",
       "\n",
       "       Transmitting-data-rate-in-Kbytes-per-seconds   Total-received-Kbytes  \\\n",
       "0                                             87.02                  974.37   \n",
       "1                                             91.51                 1800.00   \n",
       "2                                             76.95                 2800.00   \n",
       "3                                            156.25                 3970.00   \n",
       "4                                            115.82                 4840.00   \n",
       "...                                             ...                     ...   \n",
       "1345                                           0.55                25000.00   \n",
       "1346                                           0.10                25150.00   \n",
       "1347                                           0.30                25310.00   \n",
       "1348                                           0.10                25400.00   \n",
       "1349                                           0.61                25640.00   \n",
       "\n",
       "       Total-Transmitted-Kbytes   Total-received-packets  \\\n",
       "0                       1000.00                     1640   \n",
       "1                       1870.00                     3240   \n",
       "2                       2900.00                     5080   \n",
       "3                       4140.00                     7690   \n",
       "4                       5070.00                     9810   \n",
       "...                         ...                      ...   \n",
       "1345                     439.16                    19460   \n",
       "1346                     441.95                    19580   \n",
       "1347                     444.59                    19710   \n",
       "1348                     445.98                    19770   \n",
       "1349                     448.60                    19940   \n",
       "\n",
       "       Total-Transmitted-packets  \n",
       "0                           1540  \n",
       "1                           3040  \n",
       "2                           4700  \n",
       "3                           6760  \n",
       "4                           8400  \n",
       "...                          ...  \n",
       "1345                        8410  \n",
       "1346                        8460  \n",
       "1347                        8520  \n",
       "1348                        8540  \n",
       "1349                        8590  \n",
       "\n",
       "[1350 rows x 6 columns]"
      ]
     },
     "execution_count": 23,
     "metadata": {},
     "output_type": "execute_result"
    }
   ],
   "source": [
    "# Seperate features from classes\n",
    "X = data.iloc[0:1350, 0:6]\n",
    "y = data.iloc[0:1350, 6]\n",
    "X\n"
   ]
  },
  {
   "cell_type": "markdown",
   "metadata": {},
   "source": [
    "-Calculate and print the correlation matrix of X."
   ]
  },
  {
   "cell_type": "code",
   "execution_count": 31,
   "metadata": {},
   "outputs": [
    {
     "name": "stdout",
     "output_type": "stream",
     "text": [
      "                                               Receiving-data-rate-in-Kbytes-per-seconds   Transmitting-data-rate-in-Kbytes-per-seconds   Total-received-Kbytes   Total-Transmitted-Kbytes   Total-received-packets   Total-Transmitted-packets\n",
      "Receiving-data-rate-in-Kbytes-per-seconds                                       1.000000                                       0.748078                0.643117                   0.591491                 0.636381                    0.496000\n",
      " Transmitting-data-rate-in-Kbytes-per-seconds                                   0.748078                                       1.000000                0.681459                   0.639431                 0.681218                    0.545820\n",
      " Total-received-Kbytes                                                          0.643117                                       0.681459                1.000000                   0.935787                 0.981267                    0.820463\n",
      " Total-Transmitted-Kbytes                                                       0.591491                                       0.639431                0.935787                   1.000000                 0.921450                    0.943146\n",
      " Total-received-packets                                                         0.636381                                       0.681218                0.981267                   0.921450                 1.000000                    0.851075\n",
      " Total-Transmitted-packets                                                      0.496000                                       0.545820                0.820463                   0.943146                 0.851075                    1.000000\n",
      "36\n"
     ]
    }
   ],
   "source": [
    "#Correlation matrix\n",
    "corrMatrix = X.corr()\n",
    "print(corrMatrix.to_string())\n",
    "print(corrMatrix.size)"
   ]
  },
  {
   "cell_type": "markdown",
   "metadata": {},
   "source": [
    "-Plot the heat map of correlation matrix X using the Seaborn library (heatmap). "
   ]
  },
  {
   "cell_type": "code",
   "execution_count": 33,
   "metadata": {},
   "outputs": [
    {
     "data": {
      "image/png": "[encoded data removed]",
      "text/plain": [
       "<Figure size 800x600 with 2 Axes>"
      ]
     },
     "metadata": {},
     "output_type": "display_data"
    }
   ],
   "source": [
    "#Heatmap\n",
    "plt.figure(figsize=(8, 6))\n",
    "sn.heatmap(corrMatrix, annot=True, cmap=\"coolwarm\", linewidths=0.5)\n",
    "plt.title('Heatmap of Feature Correlation Matrix')\n",
    "plt.show()"
   ]
  },
  {
   "cell_type": "markdown",
   "metadata": {},
   "source": [
    "−Plot the 2 variables with the most correlation in a scatter plot."
   ]
  },
  {
   "cell_type": "code",
   "execution_count": 34,
   "metadata": {},
   "outputs": [
    {
     "data": {
      "text/plain": [
       "Text(0.5, 1.0, 'Scatter Plot of  Total-received-packets vs  Total-received-Kbytes (Highest Correlation)')"
      ]
     },
     "execution_count": 34,
     "metadata": {},
     "output_type": "execute_result"
    },
    {
     "data": {
      "image/png": "[encoded data removed]",
      "text/plain": [
       "<Figure size 800x600 with 1 Axes>"
      ]
     },
     "metadata": {},
     "output_type": "display_data"
    }
   ],
   "source": [
    "#Scatter plot\n",
    "most_correlated_pair = corrMatrix.unstack().sort_values(ascending=False)\n",
    "most_correlated_pair = most_correlated_pair[most_correlated_pair < 1].idxmax()\n",
    "var1, var2 = most_correlated_pair\n",
    "plt.figure(figsize=(8, 6))\n",
    "sn.scatterplot(x=X[var1], y=X[var2])\n",
    "plt.xlabel(var1)\n",
    "plt.ylabel(var2)\n",
    "plt.title(f'Scatter Plot of {var1} vs {var2} (Highest Correlation)')"
   ]
  },
  {
   "cell_type": "markdown",
   "metadata": {},
   "source": [
    "-Create an array named “y_2c” for two class classification. Convert the samples with the high label as 1 and the rest as 0. "
   ]
  },
  {
   "cell_type": "code",
   "execution_count": 36,
   "metadata": {},
   "outputs": [
    {
     "name": "stdout",
     "output_type": "stream",
     "text": [
      "0       1\n",
      "1       1\n",
      "2       1\n",
      "3       1\n",
      "4       1\n",
      "       ..\n",
      "1345    0\n",
      "1346    0\n",
      "1347    0\n",
      "1348    0\n",
      "1349    0\n",
      "Name:  Class, Length: 1350, dtype: int64\n"
     ]
    }
   ],
   "source": [
    "# Creat one-versus-all with High as 1, all other are labeled 0\n",
    "y_2c = y.apply(lambda label: 1 if label == 'High' else 0)\n",
    "print(y_2c)"
   ]
  },
  {
   "cell_type": "markdown",
   "metadata": {},
   "source": [
    "−\tCalculate the ratio of high-class samples to all samples. "
   ]
  },
  {
   "cell_type": "code",
   "execution_count": null,
   "metadata": {},
   "outputs": [],
   "source": [
    "#Ratio of high-class \n",
    "ratio = ...\n",
    "print(ratio)"
   ]
  },
  {
   "cell_type": "markdown",
   "metadata": {},
   "source": [
    "-Create an array named “y_mc” that can be used for multiclass classification. Use numerical labels according to the class, as follows: 3-High, 2-Varied, 1-Low, 0-Buffer."
   ]
  },
  {
   "cell_type": "code",
   "execution_count": null,
   "metadata": {},
   "outputs": [],
   "source": [
    "# Create the Multi class y vector\n",
    "y_mc = ..."
   ]
  },
  {
   "cell_type": "markdown",
   "metadata": {},
   "source": [
    "−\tPlot the distribution of labels in the data set using a bar plot. "
   ]
  },
  {
   "cell_type": "code",
   "execution_count": null,
   "metadata": {},
   "outputs": [],
   "source": [
    "#Plot the distribution of labels.\n",
    "c_high = ...\n",
    "c_var = ...\n",
    "c_low = ...\n",
    "c_buff = ...\n",
    "plt.bar(...)"
   ]
  },
  {
   "cell_type": "markdown",
   "metadata": {},
   "source": [
    "-Convert data frames X, y_2c, and  y_mc  to NumPy arrays (if they were Pandas objects). Convert the label vector elements to integers using the following notation, y.astype(‘int’), where y is the label vector.  "
   ]
  },
  {
   "cell_type": "code",
   "execution_count": null,
   "metadata": {},
   "outputs": [],
   "source": [
    "# Convert to array\n",
    "y_2c_data = ...\n",
    "y_mc_data = ...\n",
    "X_data = ..."
   ]
  },
  {
   "cell_type": "markdown",
   "metadata": {},
   "source": [
    "-Scale the feature matrix X with the StandardScaler() function from Sklearn. \t"
   ]
  },
  {
   "cell_type": "code",
   "execution_count": null,
   "metadata": {},
   "outputs": [],
   "source": [
    "#Scaling\n",
    "scaler = ...\n",
    "\n",
    "X_scaled = ..."
   ]
  },
  {
   "cell_type": "markdown",
   "metadata": {
    "id": "QOxKe3ld4B-p"
   },
   "source": [
    "Questions:\n",
    "<br> 1) Which variables have the highest correlation? Does this make sense to you? Why?\n",
    "<br> 2) What is the ratio of high-class labels in binary classification?\n",
    "<br> 3) What is the share of each label in multiclass classification?\n",
    "<br>4) Why might scaling improve the prediction capability of machine learning?\n"
   ]
  },
  {
   "cell_type": "markdown",
   "metadata": {
    "id": "xCDdhIn7Wf3l"
   },
   "source": [
    "## Task 2: Binary classification with Logistic Regression"
   ]
  },
  {
   "cell_type": "markdown",
   "metadata": {
    "id": "1CW5meJK4_5c"
   },
   "source": [
    "In the second task, you will develop a binary classifier (one versus all) to detect whether the wireless network is operating in high consumption mode or not. ML models will be tested based on 25% of the input data. You are free to develop your own functions using Sklearn functions for tasks like training, predicting, or performance evaluation. "
   ]
  },
  {
   "cell_type": "markdown",
   "metadata": {},
   "source": [
    "−\tSplit the data into training and test sets using the “train_test_split” function from Sklearn. Use 4720 as the random state parameter to control the split. "
   ]
  },
  {
   "cell_type": "code",
   "execution_count": null,
   "metadata": {
    "id": "LZ-UK-qYjJmv"
   },
   "outputs": [],
   "source": [
    "#Train test split\n",
    "Shuffle_state = 4720\n",
    "X_train_2c, X_test_2c, y_train_2c, y_test_2c = ..."
   ]
  },
  {
   "cell_type": "markdown",
   "metadata": {},
   "source": [
    "<br>−Develop and train a logistic regression model with default parameters. \n",
    "<br>−Use the trained model to predict test labels. "
   ]
  },
  {
   "cell_type": "code",
   "execution_count": null,
   "metadata": {
    "colab": {
     "base_uri": "https://localhost:8080/",
     "height": 403
    },
    "id": "NnEUzQrgm-ec",
    "outputId": "a9c97d77-0d99-4fae-c49f-577bbb534698"
   },
   "outputs": [],
   "source": [
    "#Logistic regression\n",
    "clf_lr = ...\n",
    "y_prediction = ..."
   ]
  },
  {
   "cell_type": "markdown",
   "metadata": {},
   "source": [
    "−Calculate and print the following performance metrics: Accuracy, recall, precision, and F1 score."
   ]
  },
  {
   "cell_type": "code",
   "execution_count": null,
   "metadata": {},
   "outputs": [],
   "source": [
    "#Performance metrics\n",
    "Accuracy_LR = ...\n",
    "F1_LR = ...\n",
    "Precision_LR = ...\n",
    "Recall_LR = ...\n",
    "print(\"Accuracy: \" + str(Accuracy_LR))\n",
    "print(\"F1 score: \" + str(F1_LR))\n",
    "print(\"Recall score: \" + str(Recall_LR))\n",
    "print(\"Precision score: \" + str(Precision_LR))\n"
   ]
  },
  {
   "cell_type": "markdown",
   "metadata": {},
   "source": [
    "−Plot the receiver operating characteristics (ROC) curve of training and test data in the same figure. By default, the logistic regression model uses a cut-off value of 0.5 to assign a positive or negative prediction to a data point. Different values can be used to bias the prediction towards negative or positive outcomes. The ROC curve plots the combinations of specificity and recall (sensitivity) that result from a range of cut-off values. "
   ]
  },
  {
   "cell_type": "code",
   "execution_count": null,
   "metadata": {},
   "outputs": [],
   "source": [
    "#ROC curve\n",
    "ax = plt.gca()\n",
    "test_disp = ...\n",
    "train_disp = ...\n",
    "plt.show()"
   ]
  },
  {
   "cell_type": "markdown",
   "metadata": {},
   "source": [
    "−Generate and plot the confusion matrix."
   ]
  },
  {
   "cell_type": "code",
   "execution_count": null,
   "metadata": {},
   "outputs": [],
   "source": [
    "#Confusion Matrix\n",
    "..."
   ]
  },
  {
   "cell_type": "markdown",
   "metadata": {
    "id": "FVhGc3wviE5d"
   },
   "source": [
    "The class weight parameter adjusts the penalization factor of misclassified examples in model training. Depending on the application selection of weights varies. For example, in medical testing, the cost of false negatives (absence of a disease when it is present) outweighs the cost of false positives (incorrect indication of a disease when it is not present). In this binary classification, we need to modify the weights to reduce the number of missed high cases (false negatives).\n",
    "<br> -Develop and train a logistic regression model using the “class_weight” parameter to reduce the number of false negatives in the test data (y_(2c_test)=1, but y_pred = 0). (Tip: In CodeLab2, we had constructed a SVM grid search. Similar to that, you don't have to try all the combinations yourself, you can build a nested loop and add a judgment statement at the end until you have a suitable result)\n",
    "<br> -Print out the selected weights. \n"
   ]
  },
  {
   "cell_type": "code",
   "execution_count": null,
   "metadata": {
    "colab": {
     "base_uri": "https://localhost:8080/",
     "height": 403
    },
    "id": "lDmHFYmeiFvl",
    "outputId": "37ea48fb-34f4-4209-faee-f5815cd837eb"
   },
   "outputs": [],
   "source": [
    "#Weighted logistic regression\n",
    "w_0 = ...\n",
    "w_1 = ...\n",
    "clf_lr_w = ...\n",
    "y_prediction_w =...\n",
    "print(w_0)\n",
    "print(w_1)"
   ]
  },
  {
   "cell_type": "markdown",
   "metadata": {},
   "source": [
    "−Calculate and print the following performance metrics: Accuracy, recall, precision, and F1 score."
   ]
  },
  {
   "cell_type": "code",
   "execution_count": null,
   "metadata": {},
   "outputs": [],
   "source": [
    "#Performance metrics\n",
    "Accuracy_LRw = ...\n",
    "F1_LRw = ...\n",
    "Precision_LRw = ...\n",
    "Recall_LRw = ...\n",
    "print(\"Accuracy: \" + str(Accuracy_LRw))\n",
    "print(\"F1 score: \" + str(F1_LRw))\n",
    "print(\"Recall score: \" + str(Recall_LRw))\n",
    "print(\"Precision score: \" + str(Precision_LRw))\n"
   ]
  },
  {
   "cell_type": "markdown",
   "metadata": {},
   "source": [
    "−Plot receiver operating characteristics (ROC) curve of training and test data in the same figure."
   ]
  },
  {
   "cell_type": "code",
   "execution_count": null,
   "metadata": {},
   "outputs": [],
   "source": [
    "ax = plt.gca()\n",
    "test_disp = ...\n",
    "train_disp = ..."
   ]
  },
  {
   "cell_type": "markdown",
   "metadata": {},
   "source": [
    "−Generate and plot the confusion matrix."
   ]
  },
  {
   "cell_type": "code",
   "execution_count": null,
   "metadata": {},
   "outputs": [],
   "source": [
    "..."
   ]
  },
  {
   "cell_type": "markdown",
   "metadata": {
    "id": "vzjgtY90C9Fj"
   },
   "source": [
    "\n",
    "<br>Questions :\n",
    "<br>1) What differences do you find between train and test ROC curves in the logistic regression model?\n",
    "<br>2) What does the confusion matrix represent?\n",
    "<br>3) How do the weights influence the results of our classification in logistic regression?\n",
    "<br>4) What metrics are good to use to compare models? How can you decide what is a good model?"
   ]
  },
  {
   "cell_type": "markdown",
   "metadata": {},
   "source": [
    "## Task 3: Binary classification with SVM"
   ]
  },
  {
   "cell_type": "markdown",
   "metadata": {
    "id": "cc0DJ07cDFjy"
   },
   "source": [
    "In this task you will develop multiple support vector classifiers (SVC) for the binary classification task. \n",
    "<br> -Develop and train a linear SVC with the given parameters [C=1.0, coef0=0.0, tol=1e-3]. (Note: default kernel is RBF and must be changed to linear)"
   ]
  },
  {
   "cell_type": "code",
   "execution_count": null,
   "metadata": {
    "id": "bq8U_pqiDyu0"
   },
   "outputs": [],
   "source": [
    "clf_svmlin = ...\n",
    "y_prediction_svmlin = ..."
   ]
  },
  {
   "cell_type": "markdown",
   "metadata": {},
   "source": [
    "−Calculate and print the following performance metrics: Accuracy, recall, precision, and F1 score."
   ]
  },
  {
   "cell_type": "code",
   "execution_count": null,
   "metadata": {
    "colab": {
     "base_uri": "https://localhost:8080/",
     "height": 403
    },
    "id": "zAKv4-EcD02l",
    "outputId": "d4cecaf0-d2a5-4b59-8a70-43635fa77dd2"
   },
   "outputs": [],
   "source": [
    "#Performance metrics\n",
    "Accuracy_svmlin = ...\n",
    "F1_svmlin = ...\n",
    "Precision_svmlin = ...\n",
    "Recall_svmlin = ...\n",
    "print(\"Accuracy: \" + str(Accuracy_svmlin))\n",
    "print(\"F1 score: \" + str(F1_svmlin))\n",
    "print(\"Recall score: \" + str(Recall_svmlin))\n",
    "print(\"Precision score: \" + str(Precision_svmlin))"
   ]
  },
  {
   "cell_type": "markdown",
   "metadata": {},
   "source": [
    "−Plot receiver operating characteristics (ROC) curve of training and test data in the same figure."
   ]
  },
  {
   "cell_type": "code",
   "execution_count": null,
   "metadata": {},
   "outputs": [],
   "source": [
    "ax = plt.gca()\n",
    "test_disp = ...\n",
    "train_disp = ..."
   ]
  },
  {
   "cell_type": "markdown",
   "metadata": {},
   "source": [
    "−Generate and plot the confusion matrix."
   ]
  },
  {
   "cell_type": "code",
   "execution_count": null,
   "metadata": {},
   "outputs": [],
   "source": [
    "..."
   ]
  },
  {
   "cell_type": "markdown",
   "metadata": {},
   "source": [
    "Next step, you will investigate the impact of hyperparameters. The regularization parameter (C) adjusts the penalty factor for samples in training.\n",
    "<br>-Develop two linear SVCs, one with parameter C as 0.0001 and one with C as 100, then train both models. (tol=1e-3)\n"
   ]
  },
  {
   "cell_type": "code",
   "execution_count": null,
   "metadata": {},
   "outputs": [],
   "source": [
    "#SVC construction for C=0.0001 and C=100\n",
    "clf_svmlin2 = ...\n",
    "y_prediction_svmlin2 = ...\n",
    "\n",
    "clf_svmlin3 = ...\n",
    "y_prediction_svmlin3 =..."
   ]
  },
  {
   "cell_type": "markdown",
   "metadata": {},
   "source": [
    "−Calculate and print the following performance metrics for both cases: Accuracy, recall, precision, and F1 score."
   ]
  },
  {
   "cell_type": "code",
   "execution_count": null,
   "metadata": {},
   "outputs": [],
   "source": [
    "#Performance metrics C=0.0001\n",
    "Accuracy_svmlin2 =...\n",
    "F1_svmlin2 = ...\n",
    "Precision_svmlin2 = ...\n",
    "Recall_svmlin2 = ...\n",
    "print(\"Accuracy: \" + str(Accuracy_svmlin2))\n",
    "print(\"F1 score: \" + str(F1_svmlin2))\n",
    "print(\"Recall score: \" + str(Recall_svmlin2))\n",
    "print(\"Precision score: \" + str(Precision_svmlin2))"
   ]
  },
  {
   "cell_type": "code",
   "execution_count": null,
   "metadata": {},
   "outputs": [],
   "source": [
    "#Performance metrics C=100\n",
    "Accuracy_svmlin3 = ...\n",
    "F1_svmlin3 = ...\n",
    "Precision_svmlin3 = ...\n",
    "Recall_svmlin3 = ...\n",
    "print(\"Accuracy: \" + str(Accuracy_svmlin3))\n",
    "print(\"F1 score: \" + str(F1_svmlin3))\n",
    "print(\"Recall score: \" + str(Recall_svmlin3))\n",
    "print(\"Precision score: \" + str(Precision_svmlin3))"
   ]
  },
  {
   "cell_type": "markdown",
   "metadata": {},
   "source": [
    "−\tPlot the receiver operating characteristic (ROC) curves for both cases separately."
   ]
  },
  {
   "cell_type": "code",
   "execution_count": null,
   "metadata": {},
   "outputs": [],
   "source": [
    "#ROC curve for C=0.0001\n",
    "ax = plt.gca()\n",
    "test_disp = ...\n",
    "train_disp =..."
   ]
  },
  {
   "cell_type": "code",
   "execution_count": null,
   "metadata": {},
   "outputs": [],
   "source": [
    "#ROC curve for C=0.0001\n",
    "ax = plt.gca()\n",
    "test_disp = ...\n",
    "train_disp = ..."
   ]
  },
  {
   "cell_type": "markdown",
   "metadata": {},
   "source": [
    "−\tGenerate and plot the confusion matrices for both cases separately."
   ]
  },
  {
   "cell_type": "code",
   "execution_count": null,
   "metadata": {},
   "outputs": [],
   "source": [
    "#Confusion matrix C=0.0001\n",
    "..."
   ]
  },
  {
   "cell_type": "code",
   "execution_count": null,
   "metadata": {},
   "outputs": [],
   "source": [
    "#Confusion matrix C=100\n",
    "..."
   ]
  },
  {
   "cell_type": "markdown",
   "metadata": {},
   "source": [
    "The other tunable hyperparameter is tolerance which adjusts the stopping criteria of the optimizer. \n",
    "<br>−\tDevelop and train a linear SVC with the given parameters [C=1.0, coef0=0.0, tol=10]. \n"
   ]
  },
  {
   "cell_type": "code",
   "execution_count": null,
   "metadata": {},
   "outputs": [],
   "source": [
    "#Tolerance 10\n",
    "clf_svmlin4 = ...\n",
    "y_prediction_svmlin4 = ..."
   ]
  },
  {
   "cell_type": "code",
   "execution_count": null,
   "metadata": {},
   "outputs": [],
   "source": [
    "#Performance metrics tolerance 10\n",
    "Accuracy_svmlin4 = ...\n",
    "F1_svmlin4 = ...\n",
    "Precision_svmlin4 = ...\n",
    "Recall_svmlin4 = ...\n",
    "print(\"Accuracy: \" + str(Accuracy_svmlin4))\n",
    "print(\"F1 score: \" + str(F1_svmlin4))\n",
    "print(\"Recall score: \" + str(Recall_svmlin4))\n",
    "print(\"Precision score: \" + str(Precision_svmlin4))"
   ]
  },
  {
   "cell_type": "markdown",
   "metadata": {},
   "source": [
    "−Plot receiver operating characteristics (ROC) curve of training and test data in the same figure."
   ]
  },
  {
   "cell_type": "code",
   "execution_count": null,
   "metadata": {},
   "outputs": [],
   "source": [
    "#ROC curve for tolerance 10\n",
    "ax = plt.gca()\n",
    "test_disp = ...\n",
    "train_disp = ..."
   ]
  },
  {
   "cell_type": "markdown",
   "metadata": {},
   "source": [
    "−Generate and plot the confusion matrix."
   ]
  },
  {
   "cell_type": "code",
   "execution_count": null,
   "metadata": {},
   "outputs": [],
   "source": [
    "#Confusion matrix tolerance 10\n",
    "..."
   ]
  },
  {
   "cell_type": "markdown",
   "metadata": {
    "colab": {
     "base_uri": "https://localhost:8080/",
     "height": 1000
    },
    "id": "dW8f6hrfYb8H",
    "outputId": "9e064feb-6836-4b9f-aabf-128affe58c5d"
   },
   "source": [
    "Kernels are decision functions applied to transform the feature space into higher dimensions. Nonlinear relationships between features can be found in high-dimensional space. In this CodeLab you will use a polynomial SVC (SVM classifier with a polynomial kernel). \n",
    "<br> −Develop and train two polynomial SVCs [kernel=’poly’] one with the degree of 3 and one with the degree of 2.  [C=1.0, coef0=0.0, tol=1e-3]. "
   ]
  },
  {
   "cell_type": "code",
   "execution_count": null,
   "metadata": {},
   "outputs": [],
   "source": [
    "#Polynomial SVM with 2nd and 3rd degree. \n",
    "clf_svmpoly1 = ...\n",
    "y_prediction_svmpoly1 = ...\n",
    "\n",
    "clf_svmpoly2 = ...\n",
    "y_prediction_svmpoly2 = ..."
   ]
  },
  {
   "cell_type": "markdown",
   "metadata": {},
   "source": [
    "−Calculate and print the following performance metrics for both cases: Accuracy, recall, precision, and F1 score."
   ]
  },
  {
   "cell_type": "code",
   "execution_count": null,
   "metadata": {},
   "outputs": [],
   "source": [
    "#Performance metrics polynomial 3rd \n",
    "Accuracy_svmpoly = ...\n",
    "F1_svmpoly = ...\n",
    "Precision_svmpoly = ...\n",
    "Recall_svmpoly = ...\n",
    "print(\"Accuracy: \" + str(Accuracy_svmpoly))\n",
    "print(\"F1 score: \" + str(F1_svmpoly))\n",
    "print(\"Recall score: \" + str(Precision_svmpoly))\n",
    "print(\"Precision score: \" + str(Recall_svmpoly))"
   ]
  },
  {
   "cell_type": "code",
   "execution_count": null,
   "metadata": {},
   "outputs": [],
   "source": [
    "#Performance metrics polynomial 2nd\n",
    "Accuracy_svmpoly2 = ...\n",
    "F1_svmpoly2 = ...\n",
    "Precision_svmpoly2 = ...\n",
    "Recall_svmpoly2 = ...\n",
    "print(\"Accuracy: \" + str(Accuracy_svmpoly2))\n",
    "print(\"F1 score: \" + str(F1_svmpoly2))\n",
    "print(\"Recall score: \" + str(Precision_svmpoly2))\n",
    "print(\"Precision score: \" + str(Recall_svmpoly2))"
   ]
  },
  {
   "cell_type": "markdown",
   "metadata": {},
   "source": [
    "−\tGenerate and plot the confusion matrices for both cases separately."
   ]
  },
  {
   "cell_type": "code",
   "execution_count": null,
   "metadata": {},
   "outputs": [],
   "source": [
    "#Confusion matrix poly 3rd\n",
    "..."
   ]
  },
  {
   "cell_type": "code",
   "execution_count": null,
   "metadata": {},
   "outputs": [],
   "source": [
    "#Confusion matrix poly 2nd\n",
    "..."
   ]
  },
  {
   "cell_type": "markdown",
   "metadata": {
    "id": "Fecc8D5XECfA"
   },
   "source": [
    "Questions \n",
    "<br> 1) Compare linear SVM and logistic regression models.\n",
    "<br> 2) What did you observe when parameter C is varied? Explain the role of parameter C in SVC.\n",
    "<br> 3) What did you observe when tolerance is changed to 10? Explain the role of parameter tolerance in SVC.\n",
    "<br> 4) Which SVM model do you prefer for this problem, polynomial or linear kernel?  Why? What is the potential benefit of using a nonlinear kernel? \n",
    "<br> 5) Rank the models from the highest performance to the lowest one with F1 scores.\n"
   ]
  },
  {
   "cell_type": "markdown",
   "metadata": {
    "id": "JL7gBmHNWnVP"
   },
   "source": [
    "## Task 4: Multi-class classification"
   ]
  },
  {
   "cell_type": "markdown",
   "metadata": {
    "id": "4tGofz6CEaxm"
   },
   "source": [
    "Multi-class classification predicts the best among a set of labels (four, in this case). We consider two different model classes (logistic regression and SVM) and within the logistic regression model, both the One vs. All and the multi-class approach. \n",
    "<br> The One vs. All (called ‘one versus rest’ in sklearn) method constructs binary classifiers for each class. The final prediction is based on the model with the highest score or the largest (signed) distance from the classification boundary. \n",
    "\n",
    "<br>-Split the data (X, and y_mc) into training (75%) and test sets (25%) using the “train_test_split” function from Sklearn. Use 4720 as the random state parameter to control the split.  "
   ]
  },
  {
   "cell_type": "code",
   "execution_count": null,
   "metadata": {
    "id": "vOhmwyDxkOu8"
   },
   "outputs": [],
   "source": [
    "X_train_mc, X_test_mc, y_train_mc, y_test_mc = ..."
   ]
  },
  {
   "cell_type": "markdown",
   "metadata": {
    "id": "ld4HnztPenEG"
   },
   "source": [
    "-Develop and train a logistic regression model using the one vs. rest (parameter multi_class=’ovr’) method using the “y_mc” label vector. "
   ]
  },
  {
   "cell_type": "code",
   "execution_count": null,
   "metadata": {
    "id": "Apma8MfckizV"
   },
   "outputs": [],
   "source": [
    "clf_lr_ovr = ...\n",
    "y_prediction_lrovr = ..."
   ]
  },
  {
   "cell_type": "markdown",
   "metadata": {},
   "source": [
    "−\tCalculate and print the accuracy of the model. "
   ]
  },
  {
   "cell_type": "code",
   "execution_count": null,
   "metadata": {
    "colab": {
     "base_uri": "https://localhost:8080/",
     "height": 368
    },
    "id": "J1QUvCcol4LF",
    "outputId": "1fdb4755-2c46-4cfa-f2d4-cd8d0c051a25"
   },
   "outputs": [],
   "source": [
    "#Accuracy of OVR LR\n",
    "Accuracy_lrovr = ...\n",
    "print(\"Accuracy: \" + str(Accuracy_lrovr))"
   ]
  },
  {
   "cell_type": "markdown",
   "metadata": {},
   "source": [
    "−Generate and plot the confusion matrix."
   ]
  },
  {
   "cell_type": "code",
   "execution_count": null,
   "metadata": {},
   "outputs": [],
   "source": [
    "#Confusion matrix OVR LR\n",
    "..."
   ]
  },
  {
   "cell_type": "markdown",
   "metadata": {},
   "source": [
    "For logistic regression, we can also directly train a multi-class classifier using the multi-class cross-entropy loss (sklearn calls this the multinomial cross-entropy loss).  \n",
    "<br>−Develop and train a multi-class logistic regression model (parameter multi_class=’multinomial’)\n"
   ]
  },
  {
   "cell_type": "code",
   "execution_count": null,
   "metadata": {},
   "outputs": [],
   "source": [
    "clf_lr_mult = ...\n",
    "y_prediction_lrmult = ..."
   ]
  },
  {
   "cell_type": "markdown",
   "metadata": {},
   "source": [
    "−\tCalculate and print the accuracy of the model. "
   ]
  },
  {
   "cell_type": "code",
   "execution_count": null,
   "metadata": {},
   "outputs": [],
   "source": [
    "#Accuracy of Mult LR\n",
    "Accuracy_lrmult = ...\n",
    "print(\"Accuracy: \" + str(Accuracy_lrmult))"
   ]
  },
  {
   "cell_type": "markdown",
   "metadata": {
    "colab": {
     "base_uri": "https://localhost:8080/",
     "height": 368
    },
    "id": "F6OD4ef7kYNI",
    "outputId": "a51d8fc6-d676-44fb-bfd8-2bc2ed2fcbe0"
   },
   "source": [
    "−Generate and plot the confusion matrix."
   ]
  },
  {
   "cell_type": "code",
   "execution_count": null,
   "metadata": {},
   "outputs": [],
   "source": [
    "#Confusion matrix mult LR\n",
    "..."
   ]
  },
  {
   "cell_type": "markdown",
   "metadata": {},
   "source": [
    "SVM can be used in multi-class classification tasks as well, but it will rely on the one-versus-all approach (or, for non-linear kernels, on the related one-versus-one approach). \n",
    "\n",
    "<br> - Develop and train a linear SVC [kernel=’linear’] as a one vs. all classifier with the given parameters [C=1.0, coef0=0.0, tol=1e-3]. "
   ]
  },
  {
   "cell_type": "code",
   "execution_count": null,
   "metadata": {},
   "outputs": [],
   "source": [
    "#OVR SVM\n",
    "clf_svmlin_mc_ovr = ...\n",
    "y_prediction_svmovr = ..."
   ]
  },
  {
   "cell_type": "markdown",
   "metadata": {},
   "source": [
    "−\tCalculate and print the accuracy of the model. "
   ]
  },
  {
   "cell_type": "code",
   "execution_count": null,
   "metadata": {},
   "outputs": [],
   "source": [
    "#Accuracy of SVM\n",
    "Accuracy_svmovr = ...\n",
    "print(\"Accuracy: \" + str(Accuracy_svmovr))"
   ]
  },
  {
   "cell_type": "markdown",
   "metadata": {},
   "source": [
    "−Generate and plot the confusion matrix."
   ]
  },
  {
   "cell_type": "code",
   "execution_count": null,
   "metadata": {},
   "outputs": [],
   "source": [
    "#Confusion matrix SVM OVR\n",
    "..."
   ]
  },
  {
   "cell_type": "markdown",
   "metadata": {
    "id": "NAZOcjwmFV1q"
   },
   "source": [
    "Questions:\n",
    "<br>1) How does the performance change for both classification methods for the logistic regression and why?\n",
    "<br>2) Which classification method is more computationally demanding and why? \n",
    "<br>3) Why other classification metrics cannot be used directly in multi-class classification tasks?\n",
    "<br>4) Why can multi-class classification be directly applied to logistic regression but not SVM?\n",
    "<br>5) Compare all three models’ performance in multi-class classification.\n",
    "<br>6) Which classes have higher mismatches in logistic regression? \n",
    "<br>7) Which classes have higher mismatches in SVM?  \n"
   ]
  },
  {
   "cell_type": "markdown",
   "metadata": {},
   "source": [
    "### Bonus Task"
   ]
  },
  {
   "cell_type": "markdown",
   "metadata": {},
   "source": [
    "Conduct a multi-class classification using only binary classifiers. You can use either logistic regression or SVM. Describe the steps you follow and how it works. Calculate each classifier’s output probabilities for the test data and plot them in ascending order.  "
   ]
  },
  {
   "cell_type": "code",
   "execution_count": null,
   "metadata": {},
   "outputs": [],
   "source": []
  }
 ],
 "metadata": {
  "colab": {
   "provenance": []
  },
  "kernelspec": {
   "display_name": "Python 3",
   "language": "python",
   "name": "python3"
  },
  "language_info": {
   "codemirror_mode": {
    "name": "ipython",
    "version": 3
   },
   "file_extension": ".py",
   "mimetype": "text/x-python",
   "name": "python",
   "nbconvert_exporter": "python",
   "pygments_lexer": "ipython3",
   "version": "3.12.3"
  }
 },
 "nbformat": 4,
 "nbformat_minor": 1
}
